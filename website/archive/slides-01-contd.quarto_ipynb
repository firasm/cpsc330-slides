{
  "cells": [
    {
      "cell_type": "markdown",
      "metadata": {},
      "source": [
        "---\n",
        "title: 'Lecture 1: Introduction to CPSC 330 (continued)'\n",
        "description: Introduction to ML and CPSC 330\n",
        "description-short: 'What is machine learning, types of machine learning, learning to navigate through the course materials, getting familiar with the course policies'\n",
        "format:\n",
        "  revealjs:\n",
        "    slide-number: true\n",
        "    smaller: true\n",
        "    center: true\n",
        "    logo: img/UBC-CS-logo.png\n",
        "    resources:\n",
        "      - data/\n",
        "      - img/\n",
        "---"
      ],
      "id": "62178b1e"
    },
    {
      "cell_type": "code",
      "metadata": {},
      "source": [
        "import numpy as np\n",
        "import pandas as pd\n",
        "import matplotlib.pyplot as plt\n",
        "import os\n",
        "import sys\n",
        "sys.path.append(os.path.join(os.path.abspath(\".\"), \"code\"))\n",
        "from IPython.display import HTML, display\n",
        "from sklearn.feature_extraction.text import CountVectorizer\n",
        "from sklearn.linear_model import LogisticRegression\n",
        "from sklearn.model_selection import train_test_split\n",
        "from sklearn.pipeline import make_pipeline\n",
        "\n",
        "plt.rcParams[\"font.size\"] = 16\n",
        "pd.set_option(\"display.max_colwidth\", 200)\n",
        "\n",
        "DATA_DIR = 'data/' "
      ],
      "id": "35cf5be0",
      "execution_count": null,
      "outputs": []
    },
    {
      "cell_type": "markdown",
      "metadata": {},
      "source": [
        "<!--\n",
        "## Example: Predicting labels of a given image \n",
        "\n",
        "- We can also use machine learning to predict labels of given images using a technique called **transfer learning**. \n",
        "\n",
        "::: {.scroll-container style=\"overflow-y: scroll; height: 400px;\"}\n"
      ],
      "id": "81d1c03a"
    },
    {
      "cell_type": "code",
      "metadata": {},
      "source": [
        "import img_classify\n",
        "from PIL import Image\n",
        "import glob\n",
        "import matplotlib.pyplot as plt\n",
        "# Predict topn labels and their associated probabilities for unseen images\n",
        "images = glob.glob(DATA_DIR + \"test_images/*.*\")\n",
        "class_labels_file = DATA_DIR + 'imagenet_classes.txt'\n",
        "for img_path in images:\n",
        "    img = Image.open(img_path).convert('RGB')\n",
        "    img.load()\n",
        "    plt.imshow(img)\n",
        "    plt.show();    \n",
        "    df = img_classify.classify_image(img_path, class_labels_file)\n",
        "    print(df.to_string(index=False))\n",
        "    print(\"--------------------------------------------------------------\")"
      ],
      "id": "8175d959",
      "execution_count": null,
      "outputs": []
    },
    {
      "cell_type": "markdown",
      "metadata": {},
      "source": [
        "::: -->\n",
        "\n",
        "\n",
        "## Example: Predicting housing prices (Setup)\n",
        "\n",
        "Suppose we want to predict housing prices given a number of attributes associated with houses. The target here is **continuous** and not **discrete**. \n"
      ],
      "id": "e5420ff3"
    },
    {
      "cell_type": "code",
      "metadata": {},
      "source": [
        "df = pd.read_csv( DATA_DIR + \"kc_house_data.csv\")\n",
        "df = df.drop(columns = [\"id\", \"date\"])\n",
        "df.rename(columns={\"price\": \"target\"}, inplace=True)\n",
        "train_df, test_df = train_test_split(df, test_size=0.2, random_state=4)\n",
        "HTML(train_df.head().to_html(index=False))"
      ],
      "id": "539475b6",
      "execution_count": null,
      "outputs": []
    },
    {
      "cell_type": "markdown",
      "metadata": {},
      "source": [
        "## Example: Predicting housing prices (Building a regression model)\n"
      ],
      "id": "f3639fe2"
    },
    {
      "cell_type": "code",
      "metadata": {},
      "source": [
        "#| echo: true\n",
        "from lightgbm.sklearn import LGBMRegressor\n",
        "\n",
        "X_train, y_train = train_df.drop(columns= [\"target\"]), train_df[\"target\"]\n",
        "X_test, y_test = test_df.drop(columns= [\"target\"]), train_df[\"target\"]\n",
        "\n",
        "model = LGBMRegressor()\n",
        "model.fit(X_train, y_train);"
      ],
      "id": "16c13dc1",
      "execution_count": null,
      "outputs": []
    },
    {
      "cell_type": "markdown",
      "metadata": {},
      "source": [
        "## Example: Predicting housing prices (Predicting prices of unseen houses)\n"
      ],
      "id": "a36f05db"
    },
    {
      "cell_type": "code",
      "metadata": {},
      "source": [
        "pred_df = pd.DataFrame(\n",
        "    # {\"Predicted target\": model.predict(X_test[0:4]).tolist(), \"Actual price\": y_test[0:4].tolist()}\n",
        "    {\"Predicted_target\": model.predict(X_test[0:4]).tolist()}\n",
        ")\n",
        "df_concat = pd.concat([pred_df, X_test[0:4].reset_index(drop=True)], axis=1)\n",
        "HTML(df_concat.to_html(index=False))"
      ],
      "id": "a698bca0",
      "execution_count": null,
      "outputs": []
    },
    {
      "cell_type": "markdown",
      "metadata": {},
      "source": [
        "We are predicting continuous values here as apposed to discrete values in `spam` vs. `ham` example. \n",
        "\n",
        "## Machine learning workflow \n",
        "\n",
        "Supervised machine learning is quite flexible; it can be used on a variety of problems and different kinds of data. Here is a typical workflow of a supervised machine learning systems.  \n",
        "\n",
        "![](img/ml-workflow.png){.nostretch fig-align=\"center\" width=\"700px\"}\n",
        "\n",
        "<!-- <img src=\"img/ml-workflow.png\" height=\"800\" width=\"800\">  -->\n",
        "\n",
        "We will build machine learning pipelines in this course, focusing on some of the steps above. \n",
        "\n",
        "<br><br>\n",
        "\n",
        "## Surveys\n",
        "\n",
        "- Please complete the \"Getting to know you\" survey on [Canvas]().\n",
        "- Also, please complete the anonymous restaurant survey on Qualtrics [here](https://ubc.ca1.qualtrics.com/jfe/form/SV_73VuZiuwM1eDVrw).\n",
        "  - We will try to analyze this data set in the coming weeks. \n",
        "\n",
        "## Checklist for you in the first week\n",
        "\n",
        "- [ ] Are you able to access course [Canvas](https://canvas.ubc.ca/courses/149122) shell? \n",
        "- [ ] Are you able to access [course Piazza](https://piazza.com/ubc.ca/winterterm12024/cpsc_v3301011021032024w1)?\n",
        "- [ ] Are you able to access [Gradescope](https://canvas.ubc.ca/courses/149122/external_tools/53542?display=borderless)? (If not, refer to the [Gradescope Student Guide](https://lthub.ubc.ca/guides/gradescope-student-guide/).)\n",
        "- [ ] Are you able to access [iClicker Cloud](https://join.iclicker.com/VYFJ) for this course?\n",
        "- [ ] Did you follow the setup instructions [here](https://ubc-cs.github.io/cpsc330-2024W1/docs/setup.html) to create a course conda environment on your computer?\n",
        "- [ ] Did you complete the \"Getting to know you\" survey on Canvas?\n",
        "- [ ] Did you complete the anonymous [restaurant survey on Qualtrics](https://ubc.ca1.qualtrics.com/jfe/form/SV_73VuZiuwM1eDVrw)?\n",
        "- [ ] Are you almost finished or at least started with homework 1?"
      ],
      "id": "b1eb4232"
    }
  ],
  "metadata": {
    "kernelspec": {
      "name": "conda-env-cpsc330-24-py",
      "language": "python",
      "display_name": "conda-env-cpsc330-24-py",
      "path": "/Users/firasm/Library/Jupyter/kernels/conda-env-cpsc330-24-py"
    }
  },
  "nbformat": 4,
  "nbformat_minor": 5
}