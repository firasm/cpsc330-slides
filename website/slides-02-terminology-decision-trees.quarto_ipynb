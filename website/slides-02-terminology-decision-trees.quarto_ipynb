{
  "cells": [
    {
      "cell_type": "markdown",
      "metadata": {},
      "source": [
        "---\n",
        "title: 'Lecture 2: Terminology, Baselines, Decision Trees'\n",
        "description: Terminology, decision Trees\n",
        "description-short: 'Supervised machine learning terminology: Features, target, examples, training, parameters and hyperparameters, Decision boundary, classification vs. regression, inference vs. prediction, accuracy vs. error, baselines, intuition of decision trees'\n",
        "format:\n",
        "  revealjs:\n",
        "    slide-number: true\n",
        "    smaller: true\n",
        "    center: true\n",
        "    logo: img/UBC-CS-logo.png\n",
        "    resources:\n",
        "      - data/\n",
        "      - img/\n",
        "---"
      ],
      "id": "54403d68"
    },
    {
      "cell_type": "code",
      "metadata": {},
      "source": [
        "import numpy as np\n",
        "import pandas as pd\n",
        "import matplotlib.pyplot as plt\n",
        "import os\n",
        "import sys\n",
        "sys.path.append(os.path.join(os.path.abspath(\".\"), \"code\"))\n",
        "from plotting_functions import *\n",
        "from IPython.display import HTML, display\n",
        "from sklearn.feature_extraction.text import CountVectorizer\n",
        "from sklearn.linear_model import LogisticRegression\n",
        "from sklearn.model_selection import train_test_split\n",
        "from sklearn.pipeline import make_pipeline\n",
        "\n",
        "plt.rcParams[\"font.size\"] = 16\n",
        "pd.set_option(\"display.max_colwidth\", 200)\n",
        "%matplotlib inline\n",
        "\n",
        "DATA_DIR = 'data/' "
      ],
      "id": "45d3e5b0",
      "execution_count": null,
      "outputs": []
    },
    {
      "cell_type": "markdown",
      "metadata": {},
      "source": [
        "## Announcements \n",
        "\n",
        "- Things due this week \n",
        "    - Homework 1 (hw1): Due Sept 10 11:59pm \n",
        "- Homework 2 (hw2) has been released (Due: Sept 16, 11:59pm)\n",
        "    - There is some autograding in this homework. \n",
        "- You can find the tentative due dates for all deliverables [here](https://ubc-cs.github.io/cpsc330-2024W1/README.html#deliverable-due-dates-tentative).\n",
        "- Please monitor Piazza (especially pinned posts and instructor posts) for announcements. \n",
        "- I'll assume that you've watched the pre-lecture videos. \n",
        "\n",
        "## Recap: What is ML? \n",
        "\n",
        "- ML uses data to build models that find patterns, make predictions, or generate content.\n",
        "- It helps computers learn from data to make decisions.\n",
        "- No one model works for every situation.\n",
        "\n",
        "## Recap: Supervised learning\n",
        "\n",
        "- We wish to find a model function $f$ that relates $X$ to $y$.\n",
        "- We use the model function to predict targets of new examples. \n",
        "\n",
        "![](img/sup-learning.png){.nostretch fig-align=\"center\" width=\"700px\"}\n",
        "\n",
        "In the first part of this course, we'll focus on supervised machine learning. \n",
        "\n",
        "## Framework\n",
        "\n",
        "- There are many frameworks to do do machine learning. \n",
        "- We'll mainly be using [`scikit-learn` framework](https://scikit-learn.org/stable/). \n"
      ],
      "id": "41896024"
    },
    {
      "cell_type": "code",
      "metadata": {},
      "source": [
        "import IPython\n",
        "url = \"https://scikit-learn.org\"\n",
        "IPython.display.IFrame(width=1000, height=650, src=url)"
      ],
      "id": "e5435483",
      "execution_count": null,
      "outputs": []
    },
    {
      "cell_type": "markdown",
      "metadata": {},
      "source": [
        "## Running example \n",
        "\n",
        "Imagine you’re in the fortunate situation where, after graduating, you have a few job offers and need to decide which one to choose. You want to pick the job that will likely make you the happiest. To help with your decision, you collect data from like-minded people. Here are the first few rows of this toy dataset.\n"
      ],
      "id": "168baa32"
    },
    {
      "cell_type": "code",
      "metadata": {},
      "source": [
        "#| echo: true\n",
        "toy_happiness_df = pd.read_csv(DATA_DIR + 'toy_job_happiness.csv')\n",
        "toy_happiness_df"
      ],
      "id": "de0cd232",
      "execution_count": null,
      "outputs": []
    },
    {
      "cell_type": "markdown",
      "metadata": {},
      "source": [
        "# Terminology\n",
        "\n",
        "## Features, target, example\n",
        "- What are the **features** $X$? \n",
        "  - features = inputs = predictors = explanatory variables = regressors = independent variables = covariates \n",
        "- What's the target $y$?\n",
        "  - target = output = outcome = response variable = dependent variable = labels \n",
        "- Can you think of other relevant features for this problem? \n",
        "- What is an example?\n",
        "\n",
        "## Classification vs. Regression\n",
        "- Is this a **classification** problem or a **regression** problem?  \n"
      ],
      "id": "7ce97fab"
    },
    {
      "cell_type": "code",
      "metadata": {},
      "source": [
        "toy_happiness_df"
      ],
      "id": "b58a3d7a",
      "execution_count": null,
      "outputs": []
    },
    {
      "cell_type": "markdown",
      "metadata": {},
      "source": [
        "## Prediction vs. Inference\n",
        "- **Inference** is using the model to understand the relationship between the features and the target \n",
        "  - Why certain factors influence happiness? \n",
        "- **Prediction** is using the model to predict the target value for new examples based on learned patterns.\n",
        "- Of course these goals are related, and in many situations we need both. \n",
        "\n",
        "## Training \n",
        "- In supervised ML, the goal is to learn a function that maps input features ($X$) to a target ($y$).\n",
        "- The relationship between $X$ and $y$ is often complex, making it difficult to  define mathematically.\n",
        "- We use algorithms to approximate this complex relationship between $X$ and $y$.\n",
        "- **Training** is the process of applying an algorithm to learn the best function (or model) that maps $X$ to $y$. \n",
        "- In this course, I'll help you develop an intuition for how these models work and demonstrate how to use them in a machine learning pipeline.\n",
        "\n",
        "## Separating $X$ and $y$\n",
        "\n",
        "- In order to train a model we need to separate $X$ and $y$ from the dataframe. \n"
      ],
      "id": "690498f6"
    },
    {
      "cell_type": "code",
      "metadata": {},
      "source": [
        "#| echo: true\n",
        "X = toy_happiness_df.drop(columns=[\"happy?\"]) # Extract the feature set by removing the target column \"happy?\"\n",
        "y = toy_happiness_df[\"happy?\"] # Extract the target variable \"happy?\""
      ],
      "id": "6449dcec",
      "execution_count": null,
      "outputs": []
    },
    {
      "cell_type": "markdown",
      "metadata": {},
      "source": [
        "## Baseline\n",
        "- Let's try a simplest algorithm of predicting the most popular target! \n"
      ],
      "id": "fa74346d"
    },
    {
      "cell_type": "code",
      "metadata": {},
      "source": [
        "#| echo: true\n",
        "from sklearn.dummy import DummyClassifier\n",
        "model = DummyClassifier(strategy=\"most_frequent\") # Initialize the DummyClassifier to always predict the most frequent class\n",
        "model.fit(X, y) # Train the model on the feature set X and target variable y\n",
        "toy_happiness_df['dummy_predictions'] = model.predict(X) # Add the predicted values as a new column in the dataframe\n",
        "toy_happiness_df"
      ],
      "id": "2f2eb04d",
      "execution_count": null,
      "outputs": []
    },
    {
      "cell_type": "markdown",
      "metadata": {},
      "source": [
        "# Decision trees \n",
        "\n",
        "## Intuition\n",
        "- Decision trees find the \"best\" way to split data to make predictions.\n",
        "- Each split is based on a question, like 'Are the colleagues supportive?'\n",
        "- The goal is to group data by similar outcomes at each step.\n",
        "- Now, let's see a decision tree using sklearn.\n",
        "\n",
        "## Decision tree with `sklearn`\n",
        "Let's train a simple decision tree on our toy dataset.  \n"
      ],
      "id": "9e3d2c40"
    },
    {
      "cell_type": "code",
      "metadata": {},
      "source": [
        "#| echo: true\n",
        "from sklearn.tree import DecisionTreeClassifier # import the classifier\n",
        "from sklearn.tree import plot_tree\n",
        "\n",
        "model = DecisionTreeClassifier(max_depth=2, random_state=1) # Create a class object\n",
        "model.fit(X, y)\n",
        "plot_tree(model, filled=True, feature_names = X.columns, class_names=[\"Happy\", \"Unhappy\"], impurity = False, fontsize=12);"
      ],
      "id": "e0102423",
      "execution_count": null,
      "outputs": []
    },
    {
      "cell_type": "markdown",
      "metadata": {},
      "source": [
        "## Prediction \n",
        "- Given a new example, how does a decision tree predict the class of this example?  \n",
        "- What would be the prediction for the example below using the tree above? \n",
        "  - supportive_colleagues = 1, salary = 60000, coffee_machine = 0, vegan_boss = 1,  \n"
      ],
      "id": "8105abdd"
    },
    {
      "cell_type": "code",
      "metadata": {},
      "source": [
        "plot_tree(model, filled=True, feature_names = X.columns, class_names = [\"Happy\", \"Unhappy\"], impurity = False, fontsize=12);"
      ],
      "id": "c324f610",
      "execution_count": null,
      "outputs": []
    },
    {
      "cell_type": "markdown",
      "metadata": {},
      "source": [
        "## Prediction with `sklearn`\n",
        "- What would be the prediction for the example below using the tree above? \n",
        "  - supportive_colleagues = 1, salary = 60000, coffee_machine = 0, vegan_boss = 1,  \n"
      ],
      "id": "1aa68cd1"
    },
    {
      "cell_type": "code",
      "metadata": {},
      "source": [
        "#| echo: true\n",
        "test_example = [[1, 60000, 0, 1]]\n",
        "print(\"Model prediction: \", model.predict(test_example))\n",
        "plot_tree(model, filled=True, feature_names = X.columns, class_names = [\"Happy\", \"Unhappy\"], impurity = False, fontsize=9);"
      ],
      "id": "6eee311e",
      "execution_count": null,
      "outputs": []
    },
    {
      "cell_type": "markdown",
      "metadata": {},
      "source": [
        "## Training (high level)\n",
        "\n",
        "- How many possible questions could we ask in this context?\n"
      ],
      "id": "23b1beb0"
    },
    {
      "cell_type": "code",
      "metadata": {},
      "source": [
        "X"
      ],
      "id": "4b7b88e9",
      "execution_count": null,
      "outputs": []
    },
    {
      "cell_type": "markdown",
      "metadata": {},
      "source": [
        "## Training (high level)\n",
        "- Decision tree learning is a search process to find the \"best\" tree among many possible ones.\n",
        "- We evaluate questions using measures like **information gain** or the **Gini index** to find the most effective split.\n",
        "- At each step, we aim to split the data into groups with more certainty in their outcomes.\n",
        "\n",
        "## Parameters vs. Hyperparameters \n",
        "- Parameters \n",
        "  - The questions (features and thresholds) used to split the data at each node.\n",
        "  - Example: salary <= 75000 at the root node  \n",
        "- Hyperparameters\n",
        "  - Settings that control tree growth, like `max_depth`, which limits how deep the tree can go.\n",
        "\n",
        "## Decision boundary with `max_depth=1`\n"
      ],
      "id": "f347d498"
    },
    {
      "cell_type": "code",
      "metadata": {},
      "source": [
        "X_subset = X[[\"supportive_colleagues\", \"salary\"]]\n",
        "model = DecisionTreeClassifier(max_depth=1, random_state=1)\n",
        "model.fit(X_subset.values, y)\n",
        "plot_tree_decision_boundary_and_tree(\n",
        "    model, X_subset, y, x_label=\"supportive_colleagues\", y_label=\"salary\", fontsize=12, class_names = [\"Happy\", \"Unhappy\"]\n",
        ")"
      ],
      "id": "3479ff85",
      "execution_count": null,
      "outputs": []
    },
    {
      "cell_type": "markdown",
      "metadata": {},
      "source": [
        "## Decision boundary with `max_depth=2`\n"
      ],
      "id": "a292ffca"
    },
    {
      "cell_type": "code",
      "metadata": {},
      "source": [
        "X_subset = X[[\"supportive_colleagues\", \"salary\"]]\n",
        "model = DecisionTreeClassifier(max_depth=2, random_state=1)\n",
        "model.fit(X_subset.values, y)\n",
        "plot_tree_decision_boundary_and_tree(\n",
        "    model, X_subset, y, x_label=\"supportive_colleagues\", y_label=\"salary\", fontsize=12, class_names = [\"Happy\", \"Unhappy\"]\n",
        ")"
      ],
      "id": "ae4f29ec",
      "execution_count": null,
      "outputs": []
    },
    {
      "cell_type": "markdown",
      "metadata": {},
      "source": [
        "## iClicker 2.2: Supervised vs unsupervised\n",
        "\n",
        "Clicker cloud join link: https://join.iclicker.com/VYFJ\n",
        "\n",
        "Select all of the following statements which are examples of supervised machine learning\n",
        "\n",
        "- (A) Finding groups of similar properties in a real estate data set.\n",
        "- (B) Predicting whether someone will have a heart attack or not on the basis of demographic, diet, and clinical measurement.\n",
        "- (C) Grouping articles on different topics from different news sources (something like the Google News app).\n",
        "- (D) Detecting credit card fraud based on examples of fraudulent and non-fraudulent transactions.\n",
        "- (E) Given some measure of employee performance, identify the key factors which are likely to influence their performance.\n",
        "\n",
        "## iClicker 2.3: Classification vs. Regression\n",
        "\n",
        "Clicker cloud join link: https://join.iclicker.com/VYFJ\n",
        " \n",
        "Select all of the following statements which are examples of regression problems\n",
        "\n",
        "- (A) Predicting the price of a house based on features such as number of bedrooms and the year built.\n",
        "- (B) Predicting if a house will sell or not based on features like the price of the house, number of rooms, etc.\n",
        "- (C) Predicting percentage grade in CPSC 330 based on past grades.\n",
        "- (D) Predicting whether you should bicycle tomorrow or not based on the weather forecast.\n",
        "- (E) Predicting appropriate thermostat temperature based on the wind speed and the number of people in a room.\n",
        "\n",
        "## iClicker 2.5: Baselines and Decision trees\n",
        "\n",
        "iClicker cloud join link: https://join.iclicker.com/VYFJ\n",
        "\n",
        "Select all of the following statements which are TRUE.\n",
        "\n",
        "- (A) Change in features (i.e., binarizing features above) would change DummyClassifier predictions.\n",
        "- (B) predict takes only X as argument whereas fit and score take both X and y as arguments.\n",
        "- (C) For the decision tree algorithm to work, the feature values must be binary.\n",
        "- (D) The prediction in a decision tree works by routing the example from the root to the leaf.\n",
        "\n",
        "\n",
        "## HW2 Worksheet portion \n"
      ],
      "id": "cda2dd2a"
    }
  ],
  "metadata": {
    "kernelspec": {
      "name": "conda-env-cpsc330-24-py",
      "language": "python",
      "display_name": "conda-env-cpsc330-24-py",
      "path": "/Users/firasm/Library/Jupyter/kernels/conda-env-cpsc330-24-py"
    }
  },
  "nbformat": 4,
  "nbformat_minor": 5
}