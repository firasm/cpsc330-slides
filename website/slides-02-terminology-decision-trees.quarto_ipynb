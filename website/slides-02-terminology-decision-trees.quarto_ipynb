{
  "cells": [
    {
      "cell_type": "markdown",
      "metadata": {},
      "source": [
        "---\n",
        "title: 'Lecture 2: Terminology, Baselines, Decision Trees'\n",
        "description: Terminology, decision Trees\n",
        "description-short: 'Supervised machine learning terminology: Features, target, examples, training, parameters and hyperparameters, Decision boundary, classification vs. regression, inference vs. prediction, accuracy vs. error, baselines, intuition of decision trees'\n",
        "format:\n",
        "  revealjs:\n",
        "    slide-number: true\n",
        "    smaller: true\n",
        "    center: true\n",
        "    logo: img/UBC-CS-logo.png\n",
        "    resources:\n",
        "      - data/\n",
        "      - img/\n",
        "---"
      ],
      "id": "148969fe"
    },
    {
      "cell_type": "code",
      "metadata": {},
      "source": [
        "import numpy as np\n",
        "import pandas as pd\n",
        "import matplotlib.pyplot as plt\n",
        "import os\n",
        "import sys\n",
        "sys.path.append(os.path.join(os.path.abspath(\".\"), \"code\"))\n",
        "from plotting_functions import *\n",
        "from IPython.display import HTML, display\n",
        "from sklearn.feature_extraction.text import CountVectorizer\n",
        "from sklearn.linear_model import LogisticRegression\n",
        "from sklearn.model_selection import train_test_split\n",
        "from sklearn.pipeline import make_pipeline\n",
        "\n",
        "plt.rcParams[\"font.size\"] = 16\n",
        "pd.set_option(\"display.max_colwidth\", 200)\n",
        "%matplotlib inline\n",
        "\n",
        "DATA_DIR = 'data/' "
      ],
      "id": "d8594273",
      "execution_count": null,
      "outputs": []
    },
    {
      "cell_type": "markdown",
      "metadata": {},
      "source": [
        "## Announcements \n",
        "\n",
        "- Things due this week \n",
        "    - Homework 1 (hw1): Due Sept 10 11:59pm \n",
        "- Homework 2 (hw2) has been released (Due: Sept 16, 11:59pm)\n",
        "    - There is some autograding in this homework. \n",
        "- You can find the tentative due dates for all deliverables [here](https://ubc-cs.github.io/cpsc330-2024W1/README.html#deliverable-due-dates-tentative).\n",
        "- Please monitor Piazza (especially pinned posts and instructor posts) for announcements. \n",
        "- I'll assume that you've watched the pre-lecture videos.\n",
        "\n",
        "<br><br>\n",
        "\n",
        "## Surveys\n",
        "\n",
        "- Please complete the \"Getting to know you\" survey on [Canvas]().\n",
        "- Also, please complete the anonymous restaurant survey on Qualtrics [here](https://ubc.ca1.qualtrics.com/jfe/form/SV_73VuZiuwM1eDVrw).\n",
        "  - We will try to analyze this data set in the coming weeks.\n",
        "\n",
        "## Gradescope\n",
        "\n",
        "Make sure you can submit your assignment before the hw1 due date!\n",
        "\n",
        "It is not **required** for you to work in a GitHub repository, but we *highly encourage you to do this*!\n",
        "\n",
        "**For students on the waitlist**: Gradescope Entry code is **MRZX7Z**.\n",
        "\n",
        "![](img/gradescope){.nostretch fig-align=\"center\" width=\"700px\"}\n",
        "\n",
        "\n",
        "## Checklist for you in the first week\n",
        "\n",
        "- [ ] Are you able to access course [Canvas](https://canvas.ubc.ca/courses/149122) shell? \n",
        "- [ ] Are you able to access [course Piazza](https://piazza.com/ubc.ca/winterterm12024/cpsc_v3301011021032024w1)?\n",
        "- [ ] Are you able to access [Gradescope](https://canvas.ubc.ca/courses/149122/external_tools/53542?display=borderless)? (If not, refer to the [Gradescope Student Guide](https://lthub.ubc.ca/guides/gradescope-student-guide/).)\n",
        "- [ ] Are you able to access [iClicker Cloud](https://join.iclicker.com/VYFJ) for this course?\n",
        "- [ ] Did you follow the setup instructions [here](https://ubc-cs.github.io/cpsc330-2024W1/docs/setup.html) to create a course conda environment on your computer?\n",
        "- [ ] Did you complete the \"Getting to know you\" survey on Canvas?\n",
        "- [ ] Did you complete the anonymous [restaurant survey on Qualtrics](https://ubc.ca1.qualtrics.com/jfe/form/SV_73VuZiuwM1eDVrw)?\n",
        "- [ ] Are you almost finished or at least started with homework 1?\n",
        "\n",
        "## Suggested Workflow for working with Jupyter Notebooks\n",
        "\n",
        "- Create a folder on your computer that will have all the CPSC 330 repos:\n",
        "  - `~/School/Year3/CPSC330/` <-- Consider this your CPSC parent folder\n",
        "- Create subfolders for: `hw`, `class`, `practice`\n",
        "- In the `hw` folder, you will then clone `hw1`, `hw2`, `hw3`, etc...\n",
        "- In the `class` folder, you will clone the `CPSC330-2024W1` repo which contains all the class jupyter notebooks\n",
        "  - Do **not** make any changes to files in this directory/repo, you will have trouble when you pull stuff during each class.\n",
        "  - If you did make changes, you can reset to the last commit and DESTROY any changes you made (be careful with this command) using: `git reset --hard`\n",
        "- In the `practice` folder, you can **copy** any notebooks (`.ipynb`) and files (like data/*.csv) you want to try running locally and experiment\n",
        "\n",
        "## Recap: Machine learning workflow \n",
        "\n",
        "Supervised machine learning is quite flexible; it can be used on a variety of problems and different kinds of data. Here is a typical workflow of a supervised machine learning systems.  \n",
        "\n",
        "![](img/ml-workflow.png){.nostretch fig-align=\"center\" width=\"700px\"}\n",
        "\n",
        "<!-- <img src=\"img/ml-workflow.png\" height=\"800\" width=\"800\">  -->\n",
        "\n",
        "We will build machine learning pipelines in this course, focusing on some of the steps above. \n",
        "\n",
        "## Recap: What is ML? \n",
        "\n",
        "- ML uses data to build models that find patterns, make predictions, or generate content.\n",
        "- It helps computers learn from data to make decisions.\n",
        "- No one model works for every situation.\n",
        "\n",
        "## Recap: Supervised learning\n",
        "\n",
        "- We wish to find a model function $f$ that relates $X$ to $y$.\n",
        "- We use the model function to predict targets of new examples. \n",
        "\n",
        "![](img/sup-learning.png){.nostretch fig-align=\"center\" width=\"700px\"}\n",
        "\n",
        "In the first part of this course, we'll focus on supervised machine learning.\n",
        "\n",
        "## iClicker 2.1: Terminology\n",
        "\n",
        "iClicker cloud join link: [https://join.iclicker.com/VYFJ](https://join.iclicker.com/VYFJ)\n",
        "\n",
        "## Select all of the following statements which are **True** (iClicker)\n",
        "\n",
        "A) Predicting spam is an example of machine learning. \n",
        "B) Predicting housing prices is not an example of machine learning. \n",
        "C) For problems such as spelling correction, translation, face recognition, spam identification, if you are a domain expert, it's usually faster and scalable to come up with a robust set of rules manually rather than building a machine learning model. \n",
        "D) If you are asked to write a program to find all prime numbers up to  a limit, it is better to implement one of the algorithms for doing so rather than using machine learning. \n",
        "E) Google News is likely be using machine learning to organize news. \n",
        "<br><br><br><br>\n",
        "\n",
        "## iClicker 2.2: Supervised vs unsupervised\n",
        "\n",
        "Clicker cloud join link: [https://join.iclicker.com/VYFJ](https://join.iclicker.com/VYFJ)\n",
        "\n",
        "Select all of the following statements which are examples of supervised machine learning\n",
        "\n",
        "- (A) Finding groups of similar properties in a real estate data set.\n",
        "- (B) Predicting whether someone will have a heart attack or not on the basis of demographic, diet, and clinical measurement.\n",
        "- (C) Grouping articles on different topics from different news sources (something like the Google News app).\n",
        "- (D) Detecting credit card fraud based on examples of fraudulent and non-fraudulent transactions.\n",
        "- (E) Given some measure of employee performance, identify the key factors which are likely to influence their performance.\n",
        "\n",
        "## iClicker 2.3: Classification vs. Regression\n",
        "\n",
        "Clicker cloud join link: [https://join.iclicker.com/VYFJ](https://join.iclicker.com/VYFJ)\n",
        " \n",
        "Select all of the following statements which are examples of regression problems\n",
        "\n",
        "- (A) Predicting the price of a house based on features such as number of bedrooms and the year built.\n",
        "- (B) Predicting if a house will sell or not based on features like the price of the house, number of rooms, etc.\n",
        "- (C) Predicting percentage grade in CPSC 330 based on past grades.\n",
        "- (D) Predicting whether you should bicycle tomorrow or not based on the weather forecast.\n",
        "- (E) Predicting appropriate thermostat temperature based on the wind speed and the number of people in a room.\n",
        "\n",
        "\n",
        "## ML Framework in CPSC 330\n",
        "\n",
        "- There are many frameworks to do do machine learning. \n",
        "- We'll mainly be using [`scikit-learn` framework](https://scikit-learn.org/stable/). \n"
      ],
      "id": "15cfadec"
    },
    {
      "cell_type": "code",
      "metadata": {},
      "source": [
        "import IPython\n",
        "url = \"https://scikit-learn.org\"\n",
        "IPython.display.IFrame(width=1000, height=650, src=url)"
      ],
      "id": "5b936f68",
      "execution_count": null,
      "outputs": []
    },
    {
      "cell_type": "markdown",
      "metadata": {},
      "source": [
        "## Running example \n",
        "\n",
        "Imagine you’re in the fortunate situation where, after graduating, you have a few job offers and need to decide which one to choose. You want to pick the job that will likely make you the happiest. To help with your decision, you collect data from like-minded people. Here are the first few rows of this toy dataset.\n"
      ],
      "id": "108478e1"
    },
    {
      "cell_type": "code",
      "metadata": {},
      "source": [
        "#| echo: true\n",
        "toy_happiness_df = pd.read_csv(DATA_DIR + 'toy_job_happiness.csv')\n",
        "toy_happiness_df"
      ],
      "id": "f2d9c281",
      "execution_count": null,
      "outputs": []
    },
    {
      "cell_type": "markdown",
      "metadata": {},
      "source": [
        "# Terminology\n",
        "\n",
        "## Features, target, example\n",
        "- What are the **features** $X$? \n",
        "  - features = inputs = predictors = explanatory variables = regressors = independent variables = covariates \n",
        "- What's the target $y$?\n",
        "  - target = output = outcome = response variable = dependent variable = labels \n",
        "- Can you think of other relevant features for this problem? \n",
        "- What is an example?\n",
        "\n",
        "## Classification vs. Regression\n",
        "- Is this a **classification** problem or a **regression** problem?  \n"
      ],
      "id": "8479328f"
    },
    {
      "cell_type": "code",
      "metadata": {},
      "source": [
        "toy_happiness_df"
      ],
      "id": "f8ad6052",
      "execution_count": null,
      "outputs": []
    },
    {
      "cell_type": "markdown",
      "metadata": {},
      "source": [
        "## Prediction vs. Inference\n",
        "- **Inference** is using the model to understand the relationship between the features and the target \n",
        "  - Why certain factors influence happiness? \n",
        "- **Prediction** is using the model to predict the target value for new examples based on learned patterns.\n",
        "- Of course these goals are related, and in many situations we need both. \n",
        "\n",
        "## Training \n",
        "- In supervised ML, the goal is to learn a function that maps input features ($X$) to a target ($y$).\n",
        "- The relationship between $X$ and $y$ is often complex, making it difficult to  define mathematically.\n",
        "- We use algorithms to approximate this complex relationship between $X$ and $y$.\n",
        "- **Training** is the process of applying an algorithm to learn the best function (or model) that maps $X$ to $y$. \n",
        "- In this course, I'll help you develop an intuition for how these models work and demonstrate how to use them in a machine learning pipeline.\n",
        "\n",
        "## Separating $X$ and $y$\n",
        "\n",
        "- In order to train a model we need to separate $X$ and $y$ from the dataframe. \n"
      ],
      "id": "5f0d4506"
    },
    {
      "cell_type": "code",
      "metadata": {},
      "source": [
        "#| echo: true\n",
        "X = toy_happiness_df.drop(columns=[\"happy?\"]) # Extract the feature set by removing the target column \"happy?\"\n",
        "y = toy_happiness_df[\"happy?\"] # Extract the target variable \"happy?\""
      ],
      "id": "5fa3c314",
      "execution_count": null,
      "outputs": []
    },
    {
      "cell_type": "markdown",
      "metadata": {},
      "source": [
        "## Baseline\n",
        "- Let's try a simplest algorithm of predicting the most popular target! \n"
      ],
      "id": "8d267388"
    },
    {
      "cell_type": "code",
      "metadata": {},
      "source": [
        "#| echo: true\n",
        "from sklearn.dummy import DummyClassifier\n",
        "# Initialize the DummyClassifier to always predict the most frequent class\n",
        "model = DummyClassifier(strategy=\"most_frequent\")\n",
        "# Train the model on the feature set X and target variable y\n",
        "model.fit(X, y)\n",
        "# Add the predicted values as a new column in the dataframe\n",
        "toy_happiness_df['dummy_predictions'] = model.predict(X)\n",
        "# Show the dataframe\n",
        "toy_happiness_df"
      ],
      "id": "04f4e88e",
      "execution_count": null,
      "outputs": []
    },
    {
      "cell_type": "markdown",
      "metadata": {},
      "source": [
        "# Decision trees\n",
        "\n",
        "## Pre-Intuition\n",
        "\n",
        "Let's play [20 questions](https://en.wikipedia.org/wiki/Twenty_questions)!\n",
        "You can ask me up to 20 Yes/No questions to figure out the answer.\n",
        "<br>\n",
        "<br>\n",
        "\n",
        "### I'm thinking of a person - who is it ?\n",
        "\n",
        "## Intuition\n",
        "- Decision trees find the \"best\" way to split data to make predictions.\n",
        "- Each split is based on a question, like 'Are the colleagues supportive?'\n",
        "- The goal is to group data by similar outcomes at each step.\n",
        "- Now, let's see a decision tree using sklearn.\n",
        "\n",
        "## Decision tree with `sklearn`\n",
        "Let's train a simple decision tree on our toy dataset.  \n"
      ],
      "id": "4da97c2c"
    },
    {
      "cell_type": "code",
      "metadata": {},
      "source": [
        "#| echo: true\n",
        "from sklearn.tree import DecisionTreeClassifier # import the classifier\n",
        "from sklearn.tree import plot_tree\n",
        "\n",
        "model = DecisionTreeClassifier(max_depth=2, random_state=1) # Create a class object\n",
        "model.fit(X, y)\n",
        "plot_tree(model, filled=True, feature_names = X.columns, class_names=[\"Happy\", \"Unhappy\"], \n",
        "          impurity = False, fontsize=12);"
      ],
      "id": "111050c0",
      "execution_count": null,
      "outputs": []
    },
    {
      "cell_type": "markdown",
      "metadata": {},
      "source": [
        "## Prediction \n",
        "- Given a new example, how does a decision tree predict the class of this example?  \n",
        "- What would be the prediction for the example below using the tree above? \n",
        "  - supportive_colleagues = 1, salary = 60000, coffee_machine = 0, vegan_boss = 1,  \n"
      ],
      "id": "dc1a6ce9"
    },
    {
      "cell_type": "code",
      "metadata": {},
      "source": [
        "plot_tree(model, filled=True, feature_names = X.columns, class_names = [\"Happy\", \"Unhappy\"], impurity = False, fontsize=12);"
      ],
      "id": "270f3e3a",
      "execution_count": null,
      "outputs": []
    },
    {
      "cell_type": "markdown",
      "metadata": {},
      "source": [
        "## Prediction with `sklearn`\n",
        "- What would be the prediction for the example below using the tree above? \n",
        "  - supportive_colleagues = 1, salary = 60000, coffee_machine = 0, vegan_boss = 1,  \n"
      ],
      "id": "086aedc9"
    },
    {
      "cell_type": "code",
      "metadata": {},
      "source": [
        "#| echo: true\n",
        "test_example = [[1, 60000, 0, 1]]\n",
        "print(\"Model prediction: \", model.predict(test_example))\n",
        "plot_tree(model, filled=True, feature_names = X.columns, class_names = [\"Happy\", \"Unhappy\"], impurity = False, fontsize=9);"
      ],
      "id": "77d4a49e",
      "execution_count": null,
      "outputs": []
    },
    {
      "cell_type": "markdown",
      "metadata": {},
      "source": [
        "## Training (high level)\n",
        "\n",
        "- How many possible questions could we ask in this context?\n"
      ],
      "id": "192f1e68"
    },
    {
      "cell_type": "code",
      "metadata": {},
      "source": [
        "X"
      ],
      "id": "18704730",
      "execution_count": null,
      "outputs": []
    },
    {
      "cell_type": "markdown",
      "metadata": {},
      "source": [
        "## Training (high level)\n",
        "- Decision tree learning is a search process to find the \"best\" tree among many possible ones.\n",
        "- We evaluate questions using measures like **information gain** or the **Gini index** to find the most effective split.\n",
        "- At each step, we aim to split the data into groups with more certainty in their outcomes.\n",
        "\n",
        "## Parameters vs. Hyperparameters \n",
        "- Parameters \n",
        "  - The questions (features and thresholds) used to split the data at each node.\n",
        "  - Example: salary <= 75000 at the root node  \n",
        "- Hyperparameters\n",
        "  - Settings that control tree growth, like `max_depth`, which limits how deep the tree can go.\n",
        "\n",
        "## Decision boundary with `max_depth=1`\n"
      ],
      "id": "fd1c3488"
    },
    {
      "cell_type": "code",
      "metadata": {},
      "source": [
        "X_subset = X[[\"supportive_colleagues\", \"salary\"]]\n",
        "model = DecisionTreeClassifier(max_depth=1, random_state=1)\n",
        "model.fit(X_subset.values, y)\n",
        "plot_tree_decision_boundary_and_tree(\n",
        "    model, X_subset, y, x_label=\"supportive_colleagues\", y_label=\"salary\", fontsize=12, class_names = [\"Happy\", \"Unhappy\"]\n",
        ")"
      ],
      "id": "759d178e",
      "execution_count": null,
      "outputs": []
    },
    {
      "cell_type": "markdown",
      "metadata": {},
      "source": [
        "## Decision boundary with `max_depth=2`\n"
      ],
      "id": "0daf2d14"
    },
    {
      "cell_type": "code",
      "metadata": {},
      "source": [
        "X_subset = X[[\"supportive_colleagues\", \"salary\"]]\n",
        "model = DecisionTreeClassifier(max_depth=2, random_state=1)\n",
        "model.fit(X_subset.values, y)\n",
        "plot_tree_decision_boundary_and_tree(\n",
        "    model, X_subset, y, x_label=\"supportive_colleagues\", y_label=\"salary\", fontsize=12, class_names = [\"Happy\", \"Unhappy\"]\n",
        ")"
      ],
      "id": "54634ebc",
      "execution_count": null,
      "outputs": []
    },
    {
      "cell_type": "markdown",
      "metadata": {},
      "source": [
        "## iClicker 2.5: Baselines and Decision trees\n",
        "\n",
        "iClicker cloud join link: [https://join.iclicker.com/VYFJ](https://join.iclicker.com/VYFJ)\n",
        "\n",
        "Select all of the following statements which are TRUE.\n",
        "\n",
        "- (A) Change in features (i.e., binarizing features above) would change DummyClassifier predictions.\n",
        "- (B) predict takes only X as argument whereas fit and score take both X and y as arguments.\n",
        "- (C) For the decision tree algorithm to work, the feature values must be binary.\n",
        "- (D) The prediction in a decision tree works by routing the example from the root to the leaf."
      ],
      "id": "ff40b76e"
    }
  ],
  "metadata": {
    "kernelspec": {
      "name": "conda-env-cpsc330-24-py",
      "language": "python",
      "display_name": "conda-env-cpsc330-24-py",
      "path": "/Users/firasm/Library/Jupyter/kernels/conda-env-cpsc330-24-py"
    }
  },
  "nbformat": 4,
  "nbformat_minor": 5
}